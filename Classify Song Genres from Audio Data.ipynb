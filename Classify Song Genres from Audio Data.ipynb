{
 "cells": [
  {
   "cell_type": "markdown",
   "id": "04c69668",
   "metadata": {},
   "source": [
    "# Classify Song Genres from Audio Data"
   ]
  },
  {
   "cell_type": "markdown",
   "id": "d08cd963",
   "metadata": {},
   "source": [
    "### The goal of this Notebook is to be able to classify songs as Rock or Hip-Hop without actually hearing them. I aim to do this with the help of the audio data available. \n",
    "\n",
    "### In doing so, I do the following: \n",
    "- clean the data\n",
    "- exploratory data visualization of the data\n",
    "- feature reduction (Correlation and Principal Component Analysis)\n",
    "- use ML algorithms like decision trees and logistic regression"
   ]
  },
  {
   "cell_type": "markdown",
   "id": "a5765014",
   "metadata": {},
   "source": [
    "Audio data of almost 5000 different songs are used.\n",
    "Data needed is contained in two files, one CSV file which contains basic information about the track along with the genre and a JSON file containing muscial features like danceability and acousticness. \n",
    "This data was complied by The Echo Nest (a research group)."
   ]
  },
  {
   "cell_type": "code",
   "execution_count": 1,
   "id": "073a6064",
   "metadata": {},
   "outputs": [],
   "source": [
    "import pandas as pd\n",
    "import numpy as np\n",
    "%matplotlib inline\n",
    "import matplotlib.pyplot as plt\n",
    "import seaborn as sns\n",
    "from sklearn.preprocessing import StandardScaler\n",
    "from sklearn.decomposition import PCA\n",
    "from sklearn.model_selection import train_test_split\n",
    "from sklearn.tree import DecisionTreeClassifier\n",
    "from sklearn.linear_model import LogisticRegression\n",
    "from sklearn.metrics import classification_report\n",
    "from sklearn.model_selection import KFold, cross_val_score"
   ]
  },
  {
   "cell_type": "markdown",
   "id": "6f5cb182",
   "metadata": {},
   "source": [
    "## Read data"
   ]
  },
  {
   "cell_type": "code",
   "execution_count": 2,
   "id": "a8a3c5f9",
   "metadata": {
    "dc": {
     "key": "3"
    },
    "tags": [
     "sample_code"
    ]
   },
   "outputs": [],
   "source": [
    "tracks = pd.read_csv('fma-rock-vs-hiphop.csv')\n",
    "music_features = pd.read_json('echonest-metrics.json',precise_float=True)"
   ]
  },
  {
   "cell_type": "code",
   "execution_count": 3,
   "id": "a91105d8",
   "metadata": {},
   "outputs": [
    {
     "data": {
      "text/html": [
       "<div>\n",
       "<style scoped>\n",
       "    .dataframe tbody tr th:only-of-type {\n",
       "        vertical-align: middle;\n",
       "    }\n",
       "\n",
       "    .dataframe tbody tr th {\n",
       "        vertical-align: top;\n",
       "    }\n",
       "\n",
       "    .dataframe thead th {\n",
       "        text-align: right;\n",
       "    }\n",
       "</style>\n",
       "<table border=\"1\" class=\"dataframe\">\n",
       "  <thead>\n",
       "    <tr style=\"text-align: right;\">\n",
       "      <th></th>\n",
       "      <th>track_id</th>\n",
       "      <th>bit_rate</th>\n",
       "      <th>comments</th>\n",
       "      <th>composer</th>\n",
       "      <th>date_created</th>\n",
       "      <th>date_recorded</th>\n",
       "      <th>duration</th>\n",
       "      <th>favorites</th>\n",
       "      <th>genre_top</th>\n",
       "      <th>genres</th>\n",
       "      <th>...</th>\n",
       "      <th>information</th>\n",
       "      <th>interest</th>\n",
       "      <th>language_code</th>\n",
       "      <th>license</th>\n",
       "      <th>listens</th>\n",
       "      <th>lyricist</th>\n",
       "      <th>number</th>\n",
       "      <th>publisher</th>\n",
       "      <th>tags</th>\n",
       "      <th>title</th>\n",
       "    </tr>\n",
       "  </thead>\n",
       "  <tbody>\n",
       "    <tr>\n",
       "      <th>0</th>\n",
       "      <td>135</td>\n",
       "      <td>256000</td>\n",
       "      <td>1</td>\n",
       "      <td>NaN</td>\n",
       "      <td>2008-11-26 01:43:26</td>\n",
       "      <td>2008-11-26 00:00:00</td>\n",
       "      <td>837</td>\n",
       "      <td>0</td>\n",
       "      <td>Rock</td>\n",
       "      <td>[45, 58]</td>\n",
       "      <td>...</td>\n",
       "      <td>NaN</td>\n",
       "      <td>2484</td>\n",
       "      <td>en</td>\n",
       "      <td>Attribution-NonCommercial-ShareAlike 3.0 Inter...</td>\n",
       "      <td>1832</td>\n",
       "      <td>NaN</td>\n",
       "      <td>0</td>\n",
       "      <td>NaN</td>\n",
       "      <td>[]</td>\n",
       "      <td>Father's Day</td>\n",
       "    </tr>\n",
       "    <tr>\n",
       "      <th>1</th>\n",
       "      <td>136</td>\n",
       "      <td>256000</td>\n",
       "      <td>1</td>\n",
       "      <td>NaN</td>\n",
       "      <td>2008-11-26 01:43:35</td>\n",
       "      <td>2008-11-26 00:00:00</td>\n",
       "      <td>509</td>\n",
       "      <td>0</td>\n",
       "      <td>Rock</td>\n",
       "      <td>[45, 58]</td>\n",
       "      <td>...</td>\n",
       "      <td>NaN</td>\n",
       "      <td>1948</td>\n",
       "      <td>en</td>\n",
       "      <td>Attribution-NonCommercial-ShareAlike 3.0 Inter...</td>\n",
       "      <td>1498</td>\n",
       "      <td>NaN</td>\n",
       "      <td>0</td>\n",
       "      <td>NaN</td>\n",
       "      <td>[]</td>\n",
       "      <td>Peel Back The Mountain Sky</td>\n",
       "    </tr>\n",
       "    <tr>\n",
       "      <th>2</th>\n",
       "      <td>151</td>\n",
       "      <td>192000</td>\n",
       "      <td>0</td>\n",
       "      <td>NaN</td>\n",
       "      <td>2008-11-26 01:44:55</td>\n",
       "      <td>NaN</td>\n",
       "      <td>192</td>\n",
       "      <td>0</td>\n",
       "      <td>Rock</td>\n",
       "      <td>[25]</td>\n",
       "      <td>...</td>\n",
       "      <td>NaN</td>\n",
       "      <td>701</td>\n",
       "      <td>en</td>\n",
       "      <td>Attribution-NonCommercial-ShareAlike 3.0 Inter...</td>\n",
       "      <td>148</td>\n",
       "      <td>NaN</td>\n",
       "      <td>4</td>\n",
       "      <td>NaN</td>\n",
       "      <td>[]</td>\n",
       "      <td>Untitled 04</td>\n",
       "    </tr>\n",
       "    <tr>\n",
       "      <th>3</th>\n",
       "      <td>152</td>\n",
       "      <td>192000</td>\n",
       "      <td>0</td>\n",
       "      <td>NaN</td>\n",
       "      <td>2008-11-26 01:44:58</td>\n",
       "      <td>NaN</td>\n",
       "      <td>193</td>\n",
       "      <td>0</td>\n",
       "      <td>Rock</td>\n",
       "      <td>[25]</td>\n",
       "      <td>...</td>\n",
       "      <td>NaN</td>\n",
       "      <td>637</td>\n",
       "      <td>en</td>\n",
       "      <td>Attribution-NonCommercial-ShareAlike 3.0 Inter...</td>\n",
       "      <td>98</td>\n",
       "      <td>NaN</td>\n",
       "      <td>11</td>\n",
       "      <td>NaN</td>\n",
       "      <td>[]</td>\n",
       "      <td>Untitled 11</td>\n",
       "    </tr>\n",
       "    <tr>\n",
       "      <th>4</th>\n",
       "      <td>153</td>\n",
       "      <td>256000</td>\n",
       "      <td>0</td>\n",
       "      <td>Arc and Sender</td>\n",
       "      <td>2008-11-26 01:45:00</td>\n",
       "      <td>2008-11-26 00:00:00</td>\n",
       "      <td>405</td>\n",
       "      <td>5</td>\n",
       "      <td>Rock</td>\n",
       "      <td>[26]</td>\n",
       "      <td>...</td>\n",
       "      <td>NaN</td>\n",
       "      <td>354</td>\n",
       "      <td>en</td>\n",
       "      <td>Attribution-NonCommercial-NoDerivatives (aka M...</td>\n",
       "      <td>424</td>\n",
       "      <td>NaN</td>\n",
       "      <td>2</td>\n",
       "      <td>NaN</td>\n",
       "      <td>[]</td>\n",
       "      <td>Hundred-Year Flood</td>\n",
       "    </tr>\n",
       "  </tbody>\n",
       "</table>\n",
       "<p>5 rows × 21 columns</p>\n",
       "</div>"
      ],
      "text/plain": [
       "   track_id  bit_rate  comments        composer         date_created  \\\n",
       "0       135    256000         1             NaN  2008-11-26 01:43:26   \n",
       "1       136    256000         1             NaN  2008-11-26 01:43:35   \n",
       "2       151    192000         0             NaN  2008-11-26 01:44:55   \n",
       "3       152    192000         0             NaN  2008-11-26 01:44:58   \n",
       "4       153    256000         0  Arc and Sender  2008-11-26 01:45:00   \n",
       "\n",
       "         date_recorded  duration  favorites genre_top    genres  ...  \\\n",
       "0  2008-11-26 00:00:00       837          0      Rock  [45, 58]  ...   \n",
       "1  2008-11-26 00:00:00       509          0      Rock  [45, 58]  ...   \n",
       "2                  NaN       192          0      Rock      [25]  ...   \n",
       "3                  NaN       193          0      Rock      [25]  ...   \n",
       "4  2008-11-26 00:00:00       405          5      Rock      [26]  ...   \n",
       "\n",
       "  information interest  language_code  \\\n",
       "0         NaN     2484             en   \n",
       "1         NaN     1948             en   \n",
       "2         NaN      701             en   \n",
       "3         NaN      637             en   \n",
       "4         NaN      354             en   \n",
       "\n",
       "                                             license listens  lyricist number  \\\n",
       "0  Attribution-NonCommercial-ShareAlike 3.0 Inter...    1832       NaN      0   \n",
       "1  Attribution-NonCommercial-ShareAlike 3.0 Inter...    1498       NaN      0   \n",
       "2  Attribution-NonCommercial-ShareAlike 3.0 Inter...     148       NaN      4   \n",
       "3  Attribution-NonCommercial-ShareAlike 3.0 Inter...      98       NaN     11   \n",
       "4  Attribution-NonCommercial-NoDerivatives (aka M...     424       NaN      2   \n",
       "\n",
       "   publisher tags                       title  \n",
       "0        NaN   []                Father's Day  \n",
       "1        NaN   []  Peel Back The Mountain Sky  \n",
       "2        NaN   []                 Untitled 04  \n",
       "3        NaN   []                 Untitled 11  \n",
       "4        NaN   []          Hundred-Year Flood  \n",
       "\n",
       "[5 rows x 21 columns]"
      ]
     },
     "execution_count": 3,
     "metadata": {},
     "output_type": "execute_result"
    }
   ],
   "source": [
    "tracks.head()"
   ]
  },
  {
   "cell_type": "code",
   "execution_count": 4,
   "id": "04b6ce13",
   "metadata": {},
   "outputs": [
    {
     "data": {
      "text/html": [
       "<div>\n",
       "<style scoped>\n",
       "    .dataframe tbody tr th:only-of-type {\n",
       "        vertical-align: middle;\n",
       "    }\n",
       "\n",
       "    .dataframe tbody tr th {\n",
       "        vertical-align: top;\n",
       "    }\n",
       "\n",
       "    .dataframe thead th {\n",
       "        text-align: right;\n",
       "    }\n",
       "</style>\n",
       "<table border=\"1\" class=\"dataframe\">\n",
       "  <thead>\n",
       "    <tr style=\"text-align: right;\">\n",
       "      <th></th>\n",
       "      <th>track_id</th>\n",
       "      <th>acousticness</th>\n",
       "      <th>danceability</th>\n",
       "      <th>energy</th>\n",
       "      <th>instrumentalness</th>\n",
       "      <th>liveness</th>\n",
       "      <th>speechiness</th>\n",
       "      <th>tempo</th>\n",
       "      <th>valence</th>\n",
       "    </tr>\n",
       "  </thead>\n",
       "  <tbody>\n",
       "    <tr>\n",
       "      <th>0</th>\n",
       "      <td>2</td>\n",
       "      <td>0.416675</td>\n",
       "      <td>0.675894</td>\n",
       "      <td>0.634476</td>\n",
       "      <td>0.010628</td>\n",
       "      <td>0.177647</td>\n",
       "      <td>0.159310</td>\n",
       "      <td>165.922</td>\n",
       "      <td>0.576661</td>\n",
       "    </tr>\n",
       "    <tr>\n",
       "      <th>1</th>\n",
       "      <td>3</td>\n",
       "      <td>0.374408</td>\n",
       "      <td>0.528643</td>\n",
       "      <td>0.817461</td>\n",
       "      <td>0.001851</td>\n",
       "      <td>0.105880</td>\n",
       "      <td>0.461818</td>\n",
       "      <td>126.957</td>\n",
       "      <td>0.269240</td>\n",
       "    </tr>\n",
       "    <tr>\n",
       "      <th>2</th>\n",
       "      <td>5</td>\n",
       "      <td>0.043567</td>\n",
       "      <td>0.745566</td>\n",
       "      <td>0.701470</td>\n",
       "      <td>0.000697</td>\n",
       "      <td>0.373143</td>\n",
       "      <td>0.124595</td>\n",
       "      <td>100.260</td>\n",
       "      <td>0.621661</td>\n",
       "    </tr>\n",
       "    <tr>\n",
       "      <th>3</th>\n",
       "      <td>10</td>\n",
       "      <td>0.951670</td>\n",
       "      <td>0.658179</td>\n",
       "      <td>0.924525</td>\n",
       "      <td>0.965427</td>\n",
       "      <td>0.115474</td>\n",
       "      <td>0.032985</td>\n",
       "      <td>111.562</td>\n",
       "      <td>0.963590</td>\n",
       "    </tr>\n",
       "    <tr>\n",
       "      <th>4</th>\n",
       "      <td>134</td>\n",
       "      <td>0.452217</td>\n",
       "      <td>0.513238</td>\n",
       "      <td>0.560410</td>\n",
       "      <td>0.019443</td>\n",
       "      <td>0.096567</td>\n",
       "      <td>0.525519</td>\n",
       "      <td>114.290</td>\n",
       "      <td>0.894072</td>\n",
       "    </tr>\n",
       "  </tbody>\n",
       "</table>\n",
       "</div>"
      ],
      "text/plain": [
       "   track_id  acousticness  danceability    energy  instrumentalness  liveness  \\\n",
       "0         2      0.416675      0.675894  0.634476          0.010628  0.177647   \n",
       "1         3      0.374408      0.528643  0.817461          0.001851  0.105880   \n",
       "2         5      0.043567      0.745566  0.701470          0.000697  0.373143   \n",
       "3        10      0.951670      0.658179  0.924525          0.965427  0.115474   \n",
       "4       134      0.452217      0.513238  0.560410          0.019443  0.096567   \n",
       "\n",
       "   speechiness    tempo   valence  \n",
       "0     0.159310  165.922  0.576661  \n",
       "1     0.461818  126.957  0.269240  \n",
       "2     0.124595  100.260  0.621661  \n",
       "3     0.032985  111.562  0.963590  \n",
       "4     0.525519  114.290  0.894072  "
      ]
     },
     "execution_count": 4,
     "metadata": {},
     "output_type": "execute_result"
    }
   ],
   "source": [
    "music_features.head()"
   ]
  },
  {
   "cell_type": "markdown",
   "id": "b24399e8",
   "metadata": {},
   "source": [
    "#### Merge these two datasets, only include relevant columns from both"
   ]
  },
  {
   "cell_type": "code",
   "execution_count": 5,
   "id": "b2032447",
   "metadata": {},
   "outputs": [],
   "source": [
    "audio_data=music_features.merge(tracks[['genre_top', 'track_id']], on='track_id')"
   ]
  },
  {
   "cell_type": "code",
   "execution_count": 6,
   "id": "ba17c9e4",
   "metadata": {},
   "outputs": [
    {
     "data": {
      "text/html": [
       "<div>\n",
       "<style scoped>\n",
       "    .dataframe tbody tr th:only-of-type {\n",
       "        vertical-align: middle;\n",
       "    }\n",
       "\n",
       "    .dataframe tbody tr th {\n",
       "        vertical-align: top;\n",
       "    }\n",
       "\n",
       "    .dataframe thead th {\n",
       "        text-align: right;\n",
       "    }\n",
       "</style>\n",
       "<table border=\"1\" class=\"dataframe\">\n",
       "  <thead>\n",
       "    <tr style=\"text-align: right;\">\n",
       "      <th></th>\n",
       "      <th>track_id</th>\n",
       "      <th>acousticness</th>\n",
       "      <th>danceability</th>\n",
       "      <th>energy</th>\n",
       "      <th>instrumentalness</th>\n",
       "      <th>liveness</th>\n",
       "      <th>speechiness</th>\n",
       "      <th>tempo</th>\n",
       "      <th>valence</th>\n",
       "      <th>genre_top</th>\n",
       "    </tr>\n",
       "  </thead>\n",
       "  <tbody>\n",
       "    <tr>\n",
       "      <th>0</th>\n",
       "      <td>2</td>\n",
       "      <td>0.416675</td>\n",
       "      <td>0.675894</td>\n",
       "      <td>0.634476</td>\n",
       "      <td>0.010628</td>\n",
       "      <td>0.177647</td>\n",
       "      <td>0.159310</td>\n",
       "      <td>165.922</td>\n",
       "      <td>0.576661</td>\n",
       "      <td>Hip-Hop</td>\n",
       "    </tr>\n",
       "    <tr>\n",
       "      <th>1</th>\n",
       "      <td>3</td>\n",
       "      <td>0.374408</td>\n",
       "      <td>0.528643</td>\n",
       "      <td>0.817461</td>\n",
       "      <td>0.001851</td>\n",
       "      <td>0.105880</td>\n",
       "      <td>0.461818</td>\n",
       "      <td>126.957</td>\n",
       "      <td>0.269240</td>\n",
       "      <td>Hip-Hop</td>\n",
       "    </tr>\n",
       "    <tr>\n",
       "      <th>2</th>\n",
       "      <td>5</td>\n",
       "      <td>0.043567</td>\n",
       "      <td>0.745566</td>\n",
       "      <td>0.701470</td>\n",
       "      <td>0.000697</td>\n",
       "      <td>0.373143</td>\n",
       "      <td>0.124595</td>\n",
       "      <td>100.260</td>\n",
       "      <td>0.621661</td>\n",
       "      <td>Hip-Hop</td>\n",
       "    </tr>\n",
       "    <tr>\n",
       "      <th>3</th>\n",
       "      <td>134</td>\n",
       "      <td>0.452217</td>\n",
       "      <td>0.513238</td>\n",
       "      <td>0.560410</td>\n",
       "      <td>0.019443</td>\n",
       "      <td>0.096567</td>\n",
       "      <td>0.525519</td>\n",
       "      <td>114.290</td>\n",
       "      <td>0.894072</td>\n",
       "      <td>Hip-Hop</td>\n",
       "    </tr>\n",
       "    <tr>\n",
       "      <th>4</th>\n",
       "      <td>153</td>\n",
       "      <td>0.988306</td>\n",
       "      <td>0.255661</td>\n",
       "      <td>0.979774</td>\n",
       "      <td>0.973006</td>\n",
       "      <td>0.121342</td>\n",
       "      <td>0.051740</td>\n",
       "      <td>90.241</td>\n",
       "      <td>0.034018</td>\n",
       "      <td>Rock</td>\n",
       "    </tr>\n",
       "  </tbody>\n",
       "</table>\n",
       "</div>"
      ],
      "text/plain": [
       "   track_id  acousticness  danceability    energy  instrumentalness  liveness  \\\n",
       "0         2      0.416675      0.675894  0.634476          0.010628  0.177647   \n",
       "1         3      0.374408      0.528643  0.817461          0.001851  0.105880   \n",
       "2         5      0.043567      0.745566  0.701470          0.000697  0.373143   \n",
       "3       134      0.452217      0.513238  0.560410          0.019443  0.096567   \n",
       "4       153      0.988306      0.255661  0.979774          0.973006  0.121342   \n",
       "\n",
       "   speechiness    tempo   valence genre_top  \n",
       "0     0.159310  165.922  0.576661   Hip-Hop  \n",
       "1     0.461818  126.957  0.269240   Hip-Hop  \n",
       "2     0.124595  100.260  0.621661   Hip-Hop  \n",
       "3     0.525519  114.290  0.894072   Hip-Hop  \n",
       "4     0.051740   90.241  0.034018      Rock  "
      ]
     },
     "execution_count": 6,
     "metadata": {},
     "output_type": "execute_result"
    }
   ],
   "source": [
    "audio_data.head()"
   ]
  },
  {
   "cell_type": "code",
   "execution_count": 7,
   "id": "871b65ea",
   "metadata": {},
   "outputs": [
    {
     "name": "stdout",
     "output_type": "stream",
     "text": [
      "<class 'pandas.core.frame.DataFrame'>\n",
      "Int64Index: 4802 entries, 0 to 4801\n",
      "Data columns (total 10 columns):\n",
      " #   Column            Non-Null Count  Dtype  \n",
      "---  ------            --------------  -----  \n",
      " 0   track_id          4802 non-null   int64  \n",
      " 1   acousticness      4802 non-null   float64\n",
      " 2   danceability      4802 non-null   float64\n",
      " 3   energy            4802 non-null   float64\n",
      " 4   instrumentalness  4802 non-null   float64\n",
      " 5   liveness          4802 non-null   float64\n",
      " 6   speechiness       4802 non-null   float64\n",
      " 7   tempo             4802 non-null   float64\n",
      " 8   valence           4802 non-null   float64\n",
      " 9   genre_top         4802 non-null   object \n",
      "dtypes: float64(8), int64(1), object(1)\n",
      "memory usage: 412.7+ KB\n"
     ]
    }
   ],
   "source": [
    "audio_data.info()"
   ]
  },
  {
   "cell_type": "markdown",
   "id": "d83f9ed7",
   "metadata": {},
   "source": [
    "## Feature Reduction"
   ]
  },
  {
   "cell_type": "markdown",
   "id": "73890893",
   "metadata": {},
   "source": [
    "This is important as with many features, we run the risk of overfitting our model. At the same time, a reducded number of features will decrease the computation time of the model making it predict results much quicker. \n",
    "\n",
    "First lets look at correlations and then try Principal Component Analysis (PCA)."
   ]
  },
  {
   "cell_type": "markdown",
   "id": "83980fc5",
   "metadata": {},
   "source": [
    "### 1. Checking relationships between variables/features\n",
    "This is done to check for variables that have strong correlations with each other, this will help to avoid feature redundancy.  "
   ]
  },
  {
   "cell_type": "code",
   "execution_count": 8,
   "id": "5101120f",
   "metadata": {
    "dc": {
     "key": "10"
    },
    "tags": [
     "sample_code"
    ]
   },
   "outputs": [
    {
     "data": {
      "text/html": [
       "<style  type=\"text/css\" >\n",
       "    #T_07b43e6c_6eab_11ec_b661_784f438f2e01row0_col0 {\n",
       "            background-color:  #023858;\n",
       "            color:  #f1f1f1;\n",
       "        }    #T_07b43e6c_6eab_11ec_b661_784f438f2e01row0_col1 {\n",
       "            background-color:  #fff7fb;\n",
       "            color:  #000000;\n",
       "        }    #T_07b43e6c_6eab_11ec_b661_784f438f2e01row0_col2 {\n",
       "            background-color:  #d2d2e7;\n",
       "            color:  #000000;\n",
       "        }    #T_07b43e6c_6eab_11ec_b661_784f438f2e01row0_col3 {\n",
       "            background-color:  #b5c4df;\n",
       "            color:  #000000;\n",
       "        }    #T_07b43e6c_6eab_11ec_b661_784f438f2e01row0_col4 {\n",
       "            background-color:  #f5eef6;\n",
       "            color:  #000000;\n",
       "        }    #T_07b43e6c_6eab_11ec_b661_784f438f2e01row0_col5 {\n",
       "            background-color:  #e9e5f1;\n",
       "            color:  #000000;\n",
       "        }    #T_07b43e6c_6eab_11ec_b661_784f438f2e01row0_col6 {\n",
       "            background-color:  #d1d2e6;\n",
       "            color:  #000000;\n",
       "        }    #T_07b43e6c_6eab_11ec_b661_784f438f2e01row0_col7 {\n",
       "            background-color:  #e1dfed;\n",
       "            color:  #000000;\n",
       "        }    #T_07b43e6c_6eab_11ec_b661_784f438f2e01row0_col8 {\n",
       "            background-color:  #dedcec;\n",
       "            color:  #000000;\n",
       "        }    #T_07b43e6c_6eab_11ec_b661_784f438f2e01row1_col0 {\n",
       "            background-color:  #fff7fb;\n",
       "            color:  #000000;\n",
       "        }    #T_07b43e6c_6eab_11ec_b661_784f438f2e01row1_col1 {\n",
       "            background-color:  #023858;\n",
       "            color:  #f1f1f1;\n",
       "        }    #T_07b43e6c_6eab_11ec_b661_784f438f2e01row1_col2 {\n",
       "            background-color:  #e0dded;\n",
       "            color:  #000000;\n",
       "        }    #T_07b43e6c_6eab_11ec_b661_784f438f2e01row1_col3 {\n",
       "            background-color:  #fff7fb;\n",
       "            color:  #000000;\n",
       "        }    #T_07b43e6c_6eab_11ec_b661_784f438f2e01row1_col4 {\n",
       "            background-color:  #97b7d7;\n",
       "            color:  #000000;\n",
       "        }    #T_07b43e6c_6eab_11ec_b661_784f438f2e01row1_col5 {\n",
       "            background-color:  #f3edf5;\n",
       "            color:  #000000;\n",
       "        }    #T_07b43e6c_6eab_11ec_b661_784f438f2e01row1_col6 {\n",
       "            background-color:  #b8c6e0;\n",
       "            color:  #000000;\n",
       "        }    #T_07b43e6c_6eab_11ec_b661_784f438f2e01row1_col7 {\n",
       "            background-color:  #e1dfed;\n",
       "            color:  #000000;\n",
       "        }    #T_07b43e6c_6eab_11ec_b661_784f438f2e01row1_col8 {\n",
       "            background-color:  #e2dfee;\n",
       "            color:  #000000;\n",
       "        }    #T_07b43e6c_6eab_11ec_b661_784f438f2e01row2_col0 {\n",
       "            background-color:  #bdc8e1;\n",
       "            color:  #000000;\n",
       "        }    #T_07b43e6c_6eab_11ec_b661_784f438f2e01row2_col1 {\n",
       "            background-color:  #d0d1e6;\n",
       "            color:  #000000;\n",
       "        }    #T_07b43e6c_6eab_11ec_b661_784f438f2e01row2_col2 {\n",
       "            background-color:  #023858;\n",
       "            color:  #f1f1f1;\n",
       "        }    #T_07b43e6c_6eab_11ec_b661_784f438f2e01row2_col3 {\n",
       "            background-color:  #fbf3f9;\n",
       "            color:  #000000;\n",
       "        }    #T_07b43e6c_6eab_11ec_b661_784f438f2e01row2_col4 {\n",
       "            background-color:  #f3edf5;\n",
       "            color:  #000000;\n",
       "        }    #T_07b43e6c_6eab_11ec_b661_784f438f2e01row2_col5 {\n",
       "            background-color:  #fff7fb;\n",
       "            color:  #000000;\n",
       "        }    #T_07b43e6c_6eab_11ec_b661_784f438f2e01row2_col6 {\n",
       "            background-color:  #80aed2;\n",
       "            color:  #000000;\n",
       "        }    #T_07b43e6c_6eab_11ec_b661_784f438f2e01row2_col7 {\n",
       "            background-color:  #fff7fb;\n",
       "            color:  #000000;\n",
       "        }    #T_07b43e6c_6eab_11ec_b661_784f438f2e01row2_col8 {\n",
       "            background-color:  #529bc7;\n",
       "            color:  #000000;\n",
       "        }    #T_07b43e6c_6eab_11ec_b661_784f438f2e01row3_col0 {\n",
       "            background-color:  #a7bddb;\n",
       "            color:  #000000;\n",
       "        }    #T_07b43e6c_6eab_11ec_b661_784f438f2e01row3_col1 {\n",
       "            background-color:  #f5eff6;\n",
       "            color:  #000000;\n",
       "        }    #T_07b43e6c_6eab_11ec_b661_784f438f2e01row3_col2 {\n",
       "            background-color:  #fef6fa;\n",
       "            color:  #000000;\n",
       "        }    #T_07b43e6c_6eab_11ec_b661_784f438f2e01row3_col3 {\n",
       "            background-color:  #023858;\n",
       "            color:  #f1f1f1;\n",
       "        }    #T_07b43e6c_6eab_11ec_b661_784f438f2e01row3_col4 {\n",
       "            background-color:  #c4cbe3;\n",
       "            color:  #000000;\n",
       "        }    #T_07b43e6c_6eab_11ec_b661_784f438f2e01row3_col5 {\n",
       "            background-color:  #dcdaeb;\n",
       "            color:  #000000;\n",
       "        }    #T_07b43e6c_6eab_11ec_b661_784f438f2e01row3_col6 {\n",
       "            background-color:  #dedcec;\n",
       "            color:  #000000;\n",
       "        }    #T_07b43e6c_6eab_11ec_b661_784f438f2e01row3_col7 {\n",
       "            background-color:  #adc1dd;\n",
       "            color:  #000000;\n",
       "        }    #T_07b43e6c_6eab_11ec_b661_784f438f2e01row3_col8 {\n",
       "            background-color:  #d9d8ea;\n",
       "            color:  #000000;\n",
       "        }    #T_07b43e6c_6eab_11ec_b661_784f438f2e01row4_col0 {\n",
       "            background-color:  #f4eef6;\n",
       "            color:  #000000;\n",
       "        }    #T_07b43e6c_6eab_11ec_b661_784f438f2e01row4_col1 {\n",
       "            background-color:  #97b7d7;\n",
       "            color:  #000000;\n",
       "        }    #T_07b43e6c_6eab_11ec_b661_784f438f2e01row4_col2 {\n",
       "            background-color:  #fff7fb;\n",
       "            color:  #000000;\n",
       "        }    #T_07b43e6c_6eab_11ec_b661_784f438f2e01row4_col3 {\n",
       "            background-color:  #d2d3e7;\n",
       "            color:  #000000;\n",
       "        }    #T_07b43e6c_6eab_11ec_b661_784f438f2e01row4_col4 {\n",
       "            background-color:  #023858;\n",
       "            color:  #f1f1f1;\n",
       "        }    #T_07b43e6c_6eab_11ec_b661_784f438f2e01row4_col5 {\n",
       "            background-color:  #fdf5fa;\n",
       "            color:  #000000;\n",
       "        }    #T_07b43e6c_6eab_11ec_b661_784f438f2e01row4_col6 {\n",
       "            background-color:  #fff7fb;\n",
       "            color:  #000000;\n",
       "        }    #T_07b43e6c_6eab_11ec_b661_784f438f2e01row4_col7 {\n",
       "            background-color:  #d9d8ea;\n",
       "            color:  #000000;\n",
       "        }    #T_07b43e6c_6eab_11ec_b661_784f438f2e01row4_col8 {\n",
       "            background-color:  #fff7fb;\n",
       "            color:  #000000;\n",
       "        }    #T_07b43e6c_6eab_11ec_b661_784f438f2e01row5_col0 {\n",
       "            background-color:  #bdc8e1;\n",
       "            color:  #000000;\n",
       "        }    #T_07b43e6c_6eab_11ec_b661_784f438f2e01row5_col1 {\n",
       "            background-color:  #ced0e6;\n",
       "            color:  #000000;\n",
       "        }    #T_07b43e6c_6eab_11ec_b661_784f438f2e01row5_col2 {\n",
       "            background-color:  #ede8f3;\n",
       "            color:  #000000;\n",
       "        }    #T_07b43e6c_6eab_11ec_b661_784f438f2e01row5_col3 {\n",
       "            background-color:  #bdc8e1;\n",
       "            color:  #000000;\n",
       "        }    #T_07b43e6c_6eab_11ec_b661_784f438f2e01row5_col4 {\n",
       "            background-color:  #dbdaeb;\n",
       "            color:  #000000;\n",
       "        }    #T_07b43e6c_6eab_11ec_b661_784f438f2e01row5_col5 {\n",
       "            background-color:  #023858;\n",
       "            color:  #f1f1f1;\n",
       "        }    #T_07b43e6c_6eab_11ec_b661_784f438f2e01row5_col6 {\n",
       "            background-color:  #c0c9e2;\n",
       "            color:  #000000;\n",
       "        }    #T_07b43e6c_6eab_11ec_b661_784f438f2e01row5_col7 {\n",
       "            background-color:  #dcdaeb;\n",
       "            color:  #000000;\n",
       "        }    #T_07b43e6c_6eab_11ec_b661_784f438f2e01row5_col8 {\n",
       "            background-color:  #e8e4f0;\n",
       "            color:  #000000;\n",
       "        }    #T_07b43e6c_6eab_11ec_b661_784f438f2e01row6_col0 {\n",
       "            background-color:  #d0d1e6;\n",
       "            color:  #000000;\n",
       "        }    #T_07b43e6c_6eab_11ec_b661_784f438f2e01row6_col1 {\n",
       "            background-color:  #b8c6e0;\n",
       "            color:  #000000;\n",
       "        }    #T_07b43e6c_6eab_11ec_b661_784f438f2e01row6_col2 {\n",
       "            background-color:  #93b5d6;\n",
       "            color:  #000000;\n",
       "        }    #T_07b43e6c_6eab_11ec_b661_784f438f2e01row6_col3 {\n",
       "            background-color:  #eae6f1;\n",
       "            color:  #000000;\n",
       "        }    #T_07b43e6c_6eab_11ec_b661_784f438f2e01row6_col4 {\n",
       "            background-color:  #fff7fb;\n",
       "            color:  #000000;\n",
       "        }    #T_07b43e6c_6eab_11ec_b661_784f438f2e01row6_col5 {\n",
       "            background-color:  #eae6f1;\n",
       "            color:  #000000;\n",
       "        }    #T_07b43e6c_6eab_11ec_b661_784f438f2e01row6_col6 {\n",
       "            background-color:  #023858;\n",
       "            color:  #f1f1f1;\n",
       "        }    #T_07b43e6c_6eab_11ec_b661_784f438f2e01row6_col7 {\n",
       "            background-color:  #dbdaeb;\n",
       "            color:  #000000;\n",
       "        }    #T_07b43e6c_6eab_11ec_b661_784f438f2e01row6_col8 {\n",
       "            background-color:  #bfc9e1;\n",
       "            color:  #000000;\n",
       "        }    #T_07b43e6c_6eab_11ec_b661_784f438f2e01row7_col0 {\n",
       "            background-color:  #d0d1e6;\n",
       "            color:  #000000;\n",
       "        }    #T_07b43e6c_6eab_11ec_b661_784f438f2e01row7_col1 {\n",
       "            background-color:  #d0d1e6;\n",
       "            color:  #000000;\n",
       "        }    #T_07b43e6c_6eab_11ec_b661_784f438f2e01row7_col2 {\n",
       "            background-color:  #fef6fa;\n",
       "            color:  #000000;\n",
       "        }    #T_07b43e6c_6eab_11ec_b661_784f438f2e01row7_col3 {\n",
       "            background-color:  #a7bddb;\n",
       "            color:  #000000;\n",
       "        }    #T_07b43e6c_6eab_11ec_b661_784f438f2e01row7_col4 {\n",
       "            background-color:  #c5cce3;\n",
       "            color:  #000000;\n",
       "        }    #T_07b43e6c_6eab_11ec_b661_784f438f2e01row7_col5 {\n",
       "            background-color:  #f0eaf4;\n",
       "            color:  #000000;\n",
       "        }    #T_07b43e6c_6eab_11ec_b661_784f438f2e01row7_col6 {\n",
       "            background-color:  #c8cde4;\n",
       "            color:  #000000;\n",
       "        }    #T_07b43e6c_6eab_11ec_b661_784f438f2e01row7_col7 {\n",
       "            background-color:  #023858;\n",
       "            color:  #f1f1f1;\n",
       "        }    #T_07b43e6c_6eab_11ec_b661_784f438f2e01row7_col8 {\n",
       "            background-color:  #d6d6e9;\n",
       "            color:  #000000;\n",
       "        }    #T_07b43e6c_6eab_11ec_b661_784f438f2e01row8_col0 {\n",
       "            background-color:  #c6cce3;\n",
       "            color:  #000000;\n",
       "        }    #T_07b43e6c_6eab_11ec_b661_784f438f2e01row8_col1 {\n",
       "            background-color:  #cdd0e5;\n",
       "            color:  #000000;\n",
       "        }    #T_07b43e6c_6eab_11ec_b661_784f438f2e01row8_col2 {\n",
       "            background-color:  #4c99c5;\n",
       "            color:  #000000;\n",
       "        }    #T_07b43e6c_6eab_11ec_b661_784f438f2e01row8_col3 {\n",
       "            background-color:  #d1d2e6;\n",
       "            color:  #000000;\n",
       "        }    #T_07b43e6c_6eab_11ec_b661_784f438f2e01row8_col4 {\n",
       "            background-color:  #efe9f3;\n",
       "            color:  #000000;\n",
       "        }    #T_07b43e6c_6eab_11ec_b661_784f438f2e01row8_col5 {\n",
       "            background-color:  #f7f0f7;\n",
       "            color:  #000000;\n",
       "        }    #T_07b43e6c_6eab_11ec_b661_784f438f2e01row8_col6 {\n",
       "            background-color:  #a5bddb;\n",
       "            color:  #000000;\n",
       "        }    #T_07b43e6c_6eab_11ec_b661_784f438f2e01row8_col7 {\n",
       "            background-color:  #d3d4e7;\n",
       "            color:  #000000;\n",
       "        }    #T_07b43e6c_6eab_11ec_b661_784f438f2e01row8_col8 {\n",
       "            background-color:  #023858;\n",
       "            color:  #f1f1f1;\n",
       "        }</style><table id=\"T_07b43e6c_6eab_11ec_b661_784f438f2e01\" ><thead>    <tr>        <th class=\"blank level0\" ></th>        <th class=\"col_heading level0 col0\" >track_id</th>        <th class=\"col_heading level0 col1\" >acousticness</th>        <th class=\"col_heading level0 col2\" >danceability</th>        <th class=\"col_heading level0 col3\" >energy</th>        <th class=\"col_heading level0 col4\" >instrumentalness</th>        <th class=\"col_heading level0 col5\" >liveness</th>        <th class=\"col_heading level0 col6\" >speechiness</th>        <th class=\"col_heading level0 col7\" >tempo</th>        <th class=\"col_heading level0 col8\" >valence</th>    </tr></thead><tbody>\n",
       "                <tr>\n",
       "                        <th id=\"T_07b43e6c_6eab_11ec_b661_784f438f2e01level0_row0\" class=\"row_heading level0 row0\" >track_id</th>\n",
       "                        <td id=\"T_07b43e6c_6eab_11ec_b661_784f438f2e01row0_col0\" class=\"data row0 col0\" >1.000000</td>\n",
       "                        <td id=\"T_07b43e6c_6eab_11ec_b661_784f438f2e01row0_col1\" class=\"data row0 col1\" >-0.372282</td>\n",
       "                        <td id=\"T_07b43e6c_6eab_11ec_b661_784f438f2e01row0_col2\" class=\"data row0 col2\" >0.049454</td>\n",
       "                        <td id=\"T_07b43e6c_6eab_11ec_b661_784f438f2e01row0_col3\" class=\"data row0 col3\" >0.140703</td>\n",
       "                        <td id=\"T_07b43e6c_6eab_11ec_b661_784f438f2e01row0_col4\" class=\"data row0 col4\" >-0.275623</td>\n",
       "                        <td id=\"T_07b43e6c_6eab_11ec_b661_784f438f2e01row0_col5\" class=\"data row0 col5\" >0.048231</td>\n",
       "                        <td id=\"T_07b43e6c_6eab_11ec_b661_784f438f2e01row0_col6\" class=\"data row0 col6\" >-0.026995</td>\n",
       "                        <td id=\"T_07b43e6c_6eab_11ec_b661_784f438f2e01row0_col7\" class=\"data row0 col7\" >-0.025392</td>\n",
       "                        <td id=\"T_07b43e6c_6eab_11ec_b661_784f438f2e01row0_col8\" class=\"data row0 col8\" >0.010070</td>\n",
       "            </tr>\n",
       "            <tr>\n",
       "                        <th id=\"T_07b43e6c_6eab_11ec_b661_784f438f2e01level0_row1\" class=\"row_heading level0 row1\" >acousticness</th>\n",
       "                        <td id=\"T_07b43e6c_6eab_11ec_b661_784f438f2e01row1_col0\" class=\"data row1 col0\" >-0.372282</td>\n",
       "                        <td id=\"T_07b43e6c_6eab_11ec_b661_784f438f2e01row1_col1\" class=\"data row1 col1\" >1.000000</td>\n",
       "                        <td id=\"T_07b43e6c_6eab_11ec_b661_784f438f2e01row1_col2\" class=\"data row1 col2\" >-0.028954</td>\n",
       "                        <td id=\"T_07b43e6c_6eab_11ec_b661_784f438f2e01row1_col3\" class=\"data row1 col3\" >-0.281619</td>\n",
       "                        <td id=\"T_07b43e6c_6eab_11ec_b661_784f438f2e01row1_col4\" class=\"data row1 col4\" >0.194780</td>\n",
       "                        <td id=\"T_07b43e6c_6eab_11ec_b661_784f438f2e01row1_col5\" class=\"data row1 col5\" >-0.019991</td>\n",
       "                        <td id=\"T_07b43e6c_6eab_11ec_b661_784f438f2e01row1_col6\" class=\"data row1 col6\" >0.072204</td>\n",
       "                        <td id=\"T_07b43e6c_6eab_11ec_b661_784f438f2e01row1_col7\" class=\"data row1 col7\" >-0.026310</td>\n",
       "                        <td id=\"T_07b43e6c_6eab_11ec_b661_784f438f2e01row1_col8\" class=\"data row1 col8\" >-0.013841</td>\n",
       "            </tr>\n",
       "            <tr>\n",
       "                        <th id=\"T_07b43e6c_6eab_11ec_b661_784f438f2e01level0_row2\" class=\"row_heading level0 row2\" >danceability</th>\n",
       "                        <td id=\"T_07b43e6c_6eab_11ec_b661_784f438f2e01row2_col0\" class=\"data row2 col0\" >0.049454</td>\n",
       "                        <td id=\"T_07b43e6c_6eab_11ec_b661_784f438f2e01row2_col1\" class=\"data row2 col1\" >-0.028954</td>\n",
       "                        <td id=\"T_07b43e6c_6eab_11ec_b661_784f438f2e01row2_col2\" class=\"data row2 col2\" >1.000000</td>\n",
       "                        <td id=\"T_07b43e6c_6eab_11ec_b661_784f438f2e01row2_col3\" class=\"data row2 col3\" >-0.242032</td>\n",
       "                        <td id=\"T_07b43e6c_6eab_11ec_b661_784f438f2e01row2_col4\" class=\"data row2 col4\" >-0.255217</td>\n",
       "                        <td id=\"T_07b43e6c_6eab_11ec_b661_784f438f2e01row2_col5\" class=\"data row2 col5\" >-0.106584</td>\n",
       "                        <td id=\"T_07b43e6c_6eab_11ec_b661_784f438f2e01row2_col6\" class=\"data row2 col6\" >0.276206</td>\n",
       "                        <td id=\"T_07b43e6c_6eab_11ec_b661_784f438f2e01row2_col7\" class=\"data row2 col7\" >-0.242089</td>\n",
       "                        <td id=\"T_07b43e6c_6eab_11ec_b661_784f438f2e01row2_col8\" class=\"data row2 col8\" >0.473165</td>\n",
       "            </tr>\n",
       "            <tr>\n",
       "                        <th id=\"T_07b43e6c_6eab_11ec_b661_784f438f2e01level0_row3\" class=\"row_heading level0 row3\" >energy</th>\n",
       "                        <td id=\"T_07b43e6c_6eab_11ec_b661_784f438f2e01row3_col0\" class=\"data row3 col0\" >0.140703</td>\n",
       "                        <td id=\"T_07b43e6c_6eab_11ec_b661_784f438f2e01row3_col1\" class=\"data row3 col1\" >-0.281619</td>\n",
       "                        <td id=\"T_07b43e6c_6eab_11ec_b661_784f438f2e01row3_col2\" class=\"data row3 col2\" >-0.242032</td>\n",
       "                        <td id=\"T_07b43e6c_6eab_11ec_b661_784f438f2e01row3_col3\" class=\"data row3 col3\" >1.000000</td>\n",
       "                        <td id=\"T_07b43e6c_6eab_11ec_b661_784f438f2e01row3_col4\" class=\"data row3 col4\" >0.028238</td>\n",
       "                        <td id=\"T_07b43e6c_6eab_11ec_b661_784f438f2e01row3_col5\" class=\"data row3 col5\" >0.113331</td>\n",
       "                        <td id=\"T_07b43e6c_6eab_11ec_b661_784f438f2e01row3_col6\" class=\"data row3 col6\" >-0.109983</td>\n",
       "                        <td id=\"T_07b43e6c_6eab_11ec_b661_784f438f2e01row3_col7\" class=\"data row3 col7\" >0.195227</td>\n",
       "                        <td id=\"T_07b43e6c_6eab_11ec_b661_784f438f2e01row3_col8\" class=\"data row3 col8\" >0.038603</td>\n",
       "            </tr>\n",
       "            <tr>\n",
       "                        <th id=\"T_07b43e6c_6eab_11ec_b661_784f438f2e01level0_row4\" class=\"row_heading level0 row4\" >instrumentalness</th>\n",
       "                        <td id=\"T_07b43e6c_6eab_11ec_b661_784f438f2e01row4_col0\" class=\"data row4 col0\" >-0.275623</td>\n",
       "                        <td id=\"T_07b43e6c_6eab_11ec_b661_784f438f2e01row4_col1\" class=\"data row4 col1\" >0.194780</td>\n",
       "                        <td id=\"T_07b43e6c_6eab_11ec_b661_784f438f2e01row4_col2\" class=\"data row4 col2\" >-0.255217</td>\n",
       "                        <td id=\"T_07b43e6c_6eab_11ec_b661_784f438f2e01row4_col3\" class=\"data row4 col3\" >0.028238</td>\n",
       "                        <td id=\"T_07b43e6c_6eab_11ec_b661_784f438f2e01row4_col4\" class=\"data row4 col4\" >1.000000</td>\n",
       "                        <td id=\"T_07b43e6c_6eab_11ec_b661_784f438f2e01row4_col5\" class=\"data row4 col5\" >-0.091022</td>\n",
       "                        <td id=\"T_07b43e6c_6eab_11ec_b661_784f438f2e01row4_col6\" class=\"data row4 col6\" >-0.366762</td>\n",
       "                        <td id=\"T_07b43e6c_6eab_11ec_b661_784f438f2e01row4_col7\" class=\"data row4 col7\" >0.022215</td>\n",
       "                        <td id=\"T_07b43e6c_6eab_11ec_b661_784f438f2e01row4_col8\" class=\"data row4 col8\" >-0.219967</td>\n",
       "            </tr>\n",
       "            <tr>\n",
       "                        <th id=\"T_07b43e6c_6eab_11ec_b661_784f438f2e01level0_row5\" class=\"row_heading level0 row5\" >liveness</th>\n",
       "                        <td id=\"T_07b43e6c_6eab_11ec_b661_784f438f2e01row5_col0\" class=\"data row5 col0\" >0.048231</td>\n",
       "                        <td id=\"T_07b43e6c_6eab_11ec_b661_784f438f2e01row5_col1\" class=\"data row5 col1\" >-0.019991</td>\n",
       "                        <td id=\"T_07b43e6c_6eab_11ec_b661_784f438f2e01row5_col2\" class=\"data row5 col2\" >-0.106584</td>\n",
       "                        <td id=\"T_07b43e6c_6eab_11ec_b661_784f438f2e01row5_col3\" class=\"data row5 col3\" >0.113331</td>\n",
       "                        <td id=\"T_07b43e6c_6eab_11ec_b661_784f438f2e01row5_col4\" class=\"data row5 col4\" >-0.091022</td>\n",
       "                        <td id=\"T_07b43e6c_6eab_11ec_b661_784f438f2e01row5_col5\" class=\"data row5 col5\" >1.000000</td>\n",
       "                        <td id=\"T_07b43e6c_6eab_11ec_b661_784f438f2e01row5_col6\" class=\"data row5 col6\" >0.041173</td>\n",
       "                        <td id=\"T_07b43e6c_6eab_11ec_b661_784f438f2e01row5_col7\" class=\"data row5 col7\" >0.002732</td>\n",
       "                        <td id=\"T_07b43e6c_6eab_11ec_b661_784f438f2e01row5_col8\" class=\"data row5 col8\" >-0.045093</td>\n",
       "            </tr>\n",
       "            <tr>\n",
       "                        <th id=\"T_07b43e6c_6eab_11ec_b661_784f438f2e01level0_row6\" class=\"row_heading level0 row6\" >speechiness</th>\n",
       "                        <td id=\"T_07b43e6c_6eab_11ec_b661_784f438f2e01row6_col0\" class=\"data row6 col0\" >-0.026995</td>\n",
       "                        <td id=\"T_07b43e6c_6eab_11ec_b661_784f438f2e01row6_col1\" class=\"data row6 col1\" >0.072204</td>\n",
       "                        <td id=\"T_07b43e6c_6eab_11ec_b661_784f438f2e01row6_col2\" class=\"data row6 col2\" >0.276206</td>\n",
       "                        <td id=\"T_07b43e6c_6eab_11ec_b661_784f438f2e01row6_col3\" class=\"data row6 col3\" >-0.109983</td>\n",
       "                        <td id=\"T_07b43e6c_6eab_11ec_b661_784f438f2e01row6_col4\" class=\"data row6 col4\" >-0.366762</td>\n",
       "                        <td id=\"T_07b43e6c_6eab_11ec_b661_784f438f2e01row6_col5\" class=\"data row6 col5\" >0.041173</td>\n",
       "                        <td id=\"T_07b43e6c_6eab_11ec_b661_784f438f2e01row6_col6\" class=\"data row6 col6\" >1.000000</td>\n",
       "                        <td id=\"T_07b43e6c_6eab_11ec_b661_784f438f2e01row6_col7\" class=\"data row6 col7\" >0.008241</td>\n",
       "                        <td id=\"T_07b43e6c_6eab_11ec_b661_784f438f2e01row6_col8\" class=\"data row6 col8\" >0.149894</td>\n",
       "            </tr>\n",
       "            <tr>\n",
       "                        <th id=\"T_07b43e6c_6eab_11ec_b661_784f438f2e01level0_row7\" class=\"row_heading level0 row7\" >tempo</th>\n",
       "                        <td id=\"T_07b43e6c_6eab_11ec_b661_784f438f2e01row7_col0\" class=\"data row7 col0\" >-0.025392</td>\n",
       "                        <td id=\"T_07b43e6c_6eab_11ec_b661_784f438f2e01row7_col1\" class=\"data row7 col1\" >-0.026310</td>\n",
       "                        <td id=\"T_07b43e6c_6eab_11ec_b661_784f438f2e01row7_col2\" class=\"data row7 col2\" >-0.242089</td>\n",
       "                        <td id=\"T_07b43e6c_6eab_11ec_b661_784f438f2e01row7_col3\" class=\"data row7 col3\" >0.195227</td>\n",
       "                        <td id=\"T_07b43e6c_6eab_11ec_b661_784f438f2e01row7_col4\" class=\"data row7 col4\" >0.022215</td>\n",
       "                        <td id=\"T_07b43e6c_6eab_11ec_b661_784f438f2e01row7_col5\" class=\"data row7 col5\" >0.002732</td>\n",
       "                        <td id=\"T_07b43e6c_6eab_11ec_b661_784f438f2e01row7_col6\" class=\"data row7 col6\" >0.008241</td>\n",
       "                        <td id=\"T_07b43e6c_6eab_11ec_b661_784f438f2e01row7_col7\" class=\"data row7 col7\" >1.000000</td>\n",
       "                        <td id=\"T_07b43e6c_6eab_11ec_b661_784f438f2e01row7_col8\" class=\"data row7 col8\" >0.052221</td>\n",
       "            </tr>\n",
       "            <tr>\n",
       "                        <th id=\"T_07b43e6c_6eab_11ec_b661_784f438f2e01level0_row8\" class=\"row_heading level0 row8\" >valence</th>\n",
       "                        <td id=\"T_07b43e6c_6eab_11ec_b661_784f438f2e01row8_col0\" class=\"data row8 col0\" >0.010070</td>\n",
       "                        <td id=\"T_07b43e6c_6eab_11ec_b661_784f438f2e01row8_col1\" class=\"data row8 col1\" >-0.013841</td>\n",
       "                        <td id=\"T_07b43e6c_6eab_11ec_b661_784f438f2e01row8_col2\" class=\"data row8 col2\" >0.473165</td>\n",
       "                        <td id=\"T_07b43e6c_6eab_11ec_b661_784f438f2e01row8_col3\" class=\"data row8 col3\" >0.038603</td>\n",
       "                        <td id=\"T_07b43e6c_6eab_11ec_b661_784f438f2e01row8_col4\" class=\"data row8 col4\" >-0.219967</td>\n",
       "                        <td id=\"T_07b43e6c_6eab_11ec_b661_784f438f2e01row8_col5\" class=\"data row8 col5\" >-0.045093</td>\n",
       "                        <td id=\"T_07b43e6c_6eab_11ec_b661_784f438f2e01row8_col6\" class=\"data row8 col6\" >0.149894</td>\n",
       "                        <td id=\"T_07b43e6c_6eab_11ec_b661_784f438f2e01row8_col7\" class=\"data row8 col7\" >0.052221</td>\n",
       "                        <td id=\"T_07b43e6c_6eab_11ec_b661_784f438f2e01row8_col8\" class=\"data row8 col8\" >1.000000</td>\n",
       "            </tr>\n",
       "    </tbody></table>"
      ],
      "text/plain": [
       "<pandas.io.formats.style.Styler at 0x7f80dff3d670>"
      ]
     },
     "execution_count": 8,
     "metadata": {},
     "output_type": "execute_result"
    }
   ],
   "source": [
    "correlations = audio_data.corr()\n",
    "correlations.style.background_gradient()"
   ]
  },
  {
   "cell_type": "markdown",
   "id": "f332dacb",
   "metadata": {},
   "source": [
    "No pair of features have a strong enough correlation that we can eliminate a feature. Hence, lets now use the PCA approach.\n",
    "\n",
    "To avoid bais that may be introduced by higher values of certain features, first normalize the data."
   ]
  },
  {
   "cell_type": "code",
   "execution_count": 9,
   "id": "b21cceb1",
   "metadata": {},
   "outputs": [],
   "source": [
    "features = audio_data.drop(['genre_top','track_id'],axis=1)\n",
    "labels = audio_data['genre_top']"
   ]
  },
  {
   "cell_type": "code",
   "execution_count": 10,
   "id": "4a554678",
   "metadata": {
    "dc": {
     "key": "17"
    },
    "tags": [
     "sample_code"
    ]
   },
   "outputs": [],
   "source": [
    "scaler = StandardScaler()\n",
    "scaled_features = scaler.fit_transform(features)"
   ]
  },
  {
   "cell_type": "code",
   "execution_count": 11,
   "id": "1af863ee",
   "metadata": {},
   "outputs": [],
   "source": [
    "pca = PCA()\n",
    "pca.fit(scaled_features)\n",
    "exp_variance = pca.explained_variance_ratio_\n",
    "num_components = pca.n_components_"
   ]
  },
  {
   "cell_type": "markdown",
   "id": "ffd770df",
   "metadata": {},
   "source": [
    "I use scree-plots and cumulative explained ratio plots to find the number of components to use in further analyses."
   ]
  },
  {
   "cell_type": "code",
   "execution_count": 12,
   "id": "a1de63da",
   "metadata": {},
   "outputs": [
    {
     "data": {
      "text/plain": [
       "Text(0.5, 0, 'Principal Component #')"
      ]
     },
     "execution_count": 12,
     "metadata": {},
     "output_type": "execute_result"
    },
    {
     "data": {
      "image/png": "[encoded data removed]",
      "text/plain": [
       "<Figure size 432x288 with 1 Axes>"
      ]
     },
     "metadata": {
      "needs_background": "light"
     },
     "output_type": "display_data"
    }
   ],
   "source": [
    "# plot the explained variance using a barplot\n",
    "fig, ax = plt.subplots()\n",
    "ax.bar(range(num_components), exp_variance)\n",
    "ax.set_xlabel('Principal Component #')"
   ]
  },
  {
   "cell_type": "markdown",
   "id": "7f9fd294",
   "metadata": {},
   "source": [
    "There does not appear to be a clear elbow in this scree plot, which means it is not straightforward to find the number of intrinsic dimensions using this method."
   ]
  },
  {
   "cell_type": "code",
   "execution_count": 13,
   "id": "8e0f6b2e",
   "metadata": {},
   "outputs": [
    {
     "data": {
      "text/plain": [
       "<matplotlib.lines.Line2D at 0x7f80e36e7e20>"
      ]
     },
     "execution_count": 13,
     "metadata": {},
     "output_type": "execute_result"
    },
    {
     "data": {
      "image/png": "[encoded data removed]",
      "text/plain": [
       "<Figure size 432x288 with 1 Axes>"
      ]
     },
     "metadata": {
      "needs_background": "light"
     },
     "output_type": "display_data"
    }
   ],
   "source": [
    "cum_exp_variance = np.cumsum(exp_variance) #calculate the cumulative explained variance\n",
    "\n",
    "fig, ax = plt.subplots()\n",
    "ax.plot(cum_exp_variance)\n",
    "ax.axhline(y=0.85, linestyle='--') #for considering features needed to explain 85% of the variance"
   ]
  },
  {
   "cell_type": "markdown",
   "id": "ba9db26e",
   "metadata": {},
   "source": [
    "From the figure, I can say about 6 features are needed to explain 85% of the variance, hence this is the number of features I will use to carry out the model training with."
   ]
  },
  {
   "cell_type": "code",
   "execution_count": 14,
   "id": "058e9ded",
   "metadata": {},
   "outputs": [],
   "source": [
    "n_components = 6"
   ]
  },
  {
   "cell_type": "code",
   "execution_count": 15,
   "id": "55f49943",
   "metadata": {},
   "outputs": [],
   "source": [
    "#finally perform PCA with the chosen number of components\n",
    "pca = PCA(n_components, random_state=10)\n",
    "pca.fit(scaled_features)\n",
    "pca_projection = pca.transform(scaled_features)"
   ]
  },
  {
   "cell_type": "code",
   "execution_count": 16,
   "id": "bd0fba8e",
   "metadata": {},
   "outputs": [
    {
     "data": {
      "text/plain": [
       "(4802, 6)"
      ]
     },
     "execution_count": 16,
     "metadata": {},
     "output_type": "execute_result"
    }
   ],
   "source": [
    "pca_projection.shape"
   ]
  },
  {
   "cell_type": "markdown",
   "id": "9763d5da",
   "metadata": {},
   "source": [
    "The shape confirms that we now have 6 features in total."
   ]
  },
  {
   "cell_type": "markdown",
   "id": "39667ead",
   "metadata": {},
   "source": [
    "## Model Training"
   ]
  },
  {
   "cell_type": "code",
   "execution_count": 17,
   "id": "6254750e",
   "metadata": {},
   "outputs": [],
   "source": [
    "#split data into test and train data\n",
    "X_train, X_test, y_train, y_test = train_test_split(pca_projection,labels,random_state=10)"
   ]
  },
  {
   "cell_type": "markdown",
   "id": "fdaad96f",
   "metadata": {},
   "source": [
    "### Train a Decision Tree Classifier Model"
   ]
  },
  {
   "cell_type": "code",
   "execution_count": 18,
   "id": "0a05aede",
   "metadata": {},
   "outputs": [
    {
     "data": {
      "text/plain": [
       "DecisionTreeClassifier(random_state=10)"
      ]
     },
     "execution_count": 18,
     "metadata": {},
     "output_type": "execute_result"
    }
   ],
   "source": [
    "model_dt = DecisionTreeClassifier(random_state=10)\n",
    "model_dt.fit(X_train,y_train)"
   ]
  },
  {
   "cell_type": "code",
   "execution_count": 19,
   "id": "3d4fe1bf",
   "metadata": {},
   "outputs": [
    {
     "name": "stdout",
     "output_type": "stream",
     "text": [
      "Decision Tree Classifier: 0.8434637801831807\n"
     ]
    }
   ],
   "source": [
    "predictions_dt = model_dt.predict(X_test)\n",
    "print(\"Decision Tree Classifier:\", model_dt.score(X_test,y_test))"
   ]
  },
  {
   "cell_type": "markdown",
   "id": "2d0f343d",
   "metadata": {},
   "source": [
    "### Train a Logistic Regression Model"
   ]
  },
  {
   "cell_type": "code",
   "execution_count": 20,
   "id": "35483909",
   "metadata": {},
   "outputs": [
    {
     "data": {
      "text/plain": [
       "LogisticRegression(random_state=10)"
      ]
     },
     "execution_count": 20,
     "metadata": {},
     "output_type": "execute_result"
    }
   ],
   "source": [
    "model_lg = LogisticRegression(random_state=10)\n",
    "model_lg.fit(X_train,y_train)"
   ]
  },
  {
   "cell_type": "code",
   "execution_count": 21,
   "id": "45a0faab",
   "metadata": {},
   "outputs": [
    {
     "name": "stdout",
     "output_type": "stream",
     "text": [
      "Logistic Regression: 0.8784346378018318\n"
     ]
    }
   ],
   "source": [
    "predictions_lg = model_lg.predict(X_test)\n",
    "print(\"Logistic Regression:\", model_lg.score(X_test,y_test))"
   ]
  },
  {
   "cell_type": "code",
   "execution_count": 22,
   "id": "684c5ad1",
   "metadata": {},
   "outputs": [
    {
     "name": "stdout",
     "output_type": "stream",
     "text": [
      "Decision Tree Classifier: \n",
      "               precision    recall  f1-score   support\n",
      "\n",
      "     Hip-Hop       0.60      0.60      0.60       235\n",
      "        Rock       0.90      0.90      0.90       966\n",
      "\n",
      "    accuracy                           0.84      1201\n",
      "   macro avg       0.75      0.75      0.75      1201\n",
      "weighted avg       0.84      0.84      0.84      1201\n",
      "\n",
      "Logistic Regression: \n",
      "               precision    recall  f1-score   support\n",
      "\n",
      "     Hip-Hop       0.77      0.54      0.64       235\n",
      "        Rock       0.90      0.96      0.93       966\n",
      "\n",
      "    accuracy                           0.88      1201\n",
      "   macro avg       0.83      0.75      0.78      1201\n",
      "weighted avg       0.87      0.88      0.87      1201\n",
      "\n"
     ]
    }
   ],
   "source": [
    "report_dt = classification_report(y_test,predictions_dt)\n",
    "report_lg = classification_report(y_test,predictions_lg)\n",
    "\n",
    "print(\"Decision Tree Classifier: \\n\", report_dt)\n",
    "print(\"Logistic Regression: \\n\", report_lg)"
   ]
  },
  {
   "cell_type": "markdown",
   "id": "de809d8b",
   "metadata": {},
   "source": [
    "### Both the models- Decision Tree and Logitic Regressor perform almost the same with about 84-87% accuracy. But, one important thing you can notice in the classification reports is that both these models predict Rock songs pretty well with an accuracy of 90%. However the prediction rate for Hip-Hop is much lower. In an ideal world this is not how our classifier should be like. I will aim to get both the accuracies to the same level, which then would mean our classifier is doing a good job. "
   ]
  },
  {
   "cell_type": "markdown",
   "id": "360f0637",
   "metadata": {},
   "source": [
    "Viewing the data- there is a class imbalance data. More Rock songs present in our dataset than Hip-Hop"
   ]
  },
  {
   "cell_type": "code",
   "execution_count": 23,
   "id": "c8d9507e",
   "metadata": {
    "scrolled": false
   },
   "outputs": [
    {
     "data": {
      "text/plain": [
       "<matplotlib.axes._subplots.AxesSubplot at 0x7f80e3aa0df0>"
      ]
     },
     "execution_count": 23,
     "metadata": {},
     "output_type": "execute_result"
    },
    {
     "data": {
      "image/png": "[encoded data removed]",
      "text/plain": [
       "<Figure size 432x288 with 1 Axes>"
      ]
     },
     "metadata": {
      "needs_background": "light"
     },
     "output_type": "display_data"
    }
   ],
   "source": [
    "sns.countplot(audio_data['genre_top'], label = \"Count\") "
   ]
  },
  {
   "cell_type": "code",
   "execution_count": 24,
   "id": "7b8c5b31",
   "metadata": {},
   "outputs": [],
   "source": [
    "# Subset only the hip-hop tracks, and then only the rock tracks\n",
    "hip_hop = audio_data.loc[audio_data['genre_top'] == 'Hip-Hop']\n",
    "rock = audio_data.loc[audio_data['genre_top'] == 'Rock']"
   ]
  },
  {
   "cell_type": "code",
   "execution_count": 25,
   "id": "466412ff",
   "metadata": {},
   "outputs": [
    {
     "data": {
      "text/plain": [
       "(910, 10)"
      ]
     },
     "execution_count": 25,
     "metadata": {},
     "output_type": "execute_result"
    }
   ],
   "source": [
    "hip_hop.shape"
   ]
  },
  {
   "cell_type": "code",
   "execution_count": 26,
   "id": "fce2d9c8",
   "metadata": {},
   "outputs": [
    {
     "data": {
      "text/plain": [
       "(3892, 10)"
      ]
     },
     "execution_count": 26,
     "metadata": {},
     "output_type": "execute_result"
    }
   ],
   "source": [
    "rock.shape"
   ]
  },
  {
   "cell_type": "markdown",
   "id": "3b032e69",
   "metadata": {},
   "source": [
    "### 3892 rock songs compared to only 910 hip hop songs. Remove this imbalance by sampling the rock songs to have the same number as hip hop"
   ]
  },
  {
   "cell_type": "code",
   "execution_count": 27,
   "id": "56b1a3eb",
   "metadata": {},
   "outputs": [],
   "source": [
    "rock = rock.sample(hip_hop.shape[0], random_state=10)"
   ]
  },
  {
   "cell_type": "code",
   "execution_count": 28,
   "id": "9ee205ce",
   "metadata": {},
   "outputs": [],
   "source": [
    "#concatenate to create the balanced dataset\n",
    "balanced_data = pd.concat([rock, hip_hop])"
   ]
  },
  {
   "cell_type": "code",
   "execution_count": 29,
   "id": "de8f1d2e",
   "metadata": {},
   "outputs": [
    {
     "data": {
      "text/html": [
       "<div>\n",
       "<style scoped>\n",
       "    .dataframe tbody tr th:only-of-type {\n",
       "        vertical-align: middle;\n",
       "    }\n",
       "\n",
       "    .dataframe tbody tr th {\n",
       "        vertical-align: top;\n",
       "    }\n",
       "\n",
       "    .dataframe thead th {\n",
       "        text-align: right;\n",
       "    }\n",
       "</style>\n",
       "<table border=\"1\" class=\"dataframe\">\n",
       "  <thead>\n",
       "    <tr style=\"text-align: right;\">\n",
       "      <th></th>\n",
       "      <th>track_id</th>\n",
       "      <th>acousticness</th>\n",
       "      <th>danceability</th>\n",
       "      <th>energy</th>\n",
       "      <th>instrumentalness</th>\n",
       "      <th>liveness</th>\n",
       "      <th>speechiness</th>\n",
       "      <th>tempo</th>\n",
       "      <th>valence</th>\n",
       "      <th>genre_top</th>\n",
       "    </tr>\n",
       "  </thead>\n",
       "  <tbody>\n",
       "    <tr>\n",
       "      <th>773</th>\n",
       "      <td>4038</td>\n",
       "      <td>0.825838</td>\n",
       "      <td>0.263645</td>\n",
       "      <td>0.797948</td>\n",
       "      <td>0.842318</td>\n",
       "      <td>0.177089</td>\n",
       "      <td>0.045277</td>\n",
       "      <td>166.580</td>\n",
       "      <td>0.713586</td>\n",
       "      <td>Rock</td>\n",
       "    </tr>\n",
       "    <tr>\n",
       "      <th>2273</th>\n",
       "      <td>19501</td>\n",
       "      <td>0.966635</td>\n",
       "      <td>0.386114</td>\n",
       "      <td>0.651980</td>\n",
       "      <td>0.869472</td>\n",
       "      <td>0.353138</td>\n",
       "      <td>0.032208</td>\n",
       "      <td>130.767</td>\n",
       "      <td>0.712374</td>\n",
       "      <td>Rock</td>\n",
       "    </tr>\n",
       "    <tr>\n",
       "      <th>2846</th>\n",
       "      <td>31252</td>\n",
       "      <td>0.721510</td>\n",
       "      <td>0.358035</td>\n",
       "      <td>0.948187</td>\n",
       "      <td>0.801184</td>\n",
       "      <td>0.105706</td>\n",
       "      <td>0.095522</td>\n",
       "      <td>125.884</td>\n",
       "      <td>0.208728</td>\n",
       "      <td>Rock</td>\n",
       "    </tr>\n",
       "    <tr>\n",
       "      <th>2147</th>\n",
       "      <td>17947</td>\n",
       "      <td>0.617370</td>\n",
       "      <td>0.487321</td>\n",
       "      <td>0.918848</td>\n",
       "      <td>0.817050</td>\n",
       "      <td>0.089908</td>\n",
       "      <td>0.040337</td>\n",
       "      <td>129.565</td>\n",
       "      <td>0.268893</td>\n",
       "      <td>Rock</td>\n",
       "    </tr>\n",
       "    <tr>\n",
       "      <th>2654</th>\n",
       "      <td>27421</td>\n",
       "      <td>0.025464</td>\n",
       "      <td>0.245523</td>\n",
       "      <td>0.422381</td>\n",
       "      <td>0.938011</td>\n",
       "      <td>0.441009</td>\n",
       "      <td>0.038795</td>\n",
       "      <td>149.960</td>\n",
       "      <td>0.439876</td>\n",
       "      <td>Rock</td>\n",
       "    </tr>\n",
       "  </tbody>\n",
       "</table>\n",
       "</div>"
      ],
      "text/plain": [
       "      track_id  acousticness  danceability    energy  instrumentalness  \\\n",
       "773       4038      0.825838      0.263645  0.797948          0.842318   \n",
       "2273     19501      0.966635      0.386114  0.651980          0.869472   \n",
       "2846     31252      0.721510      0.358035  0.948187          0.801184   \n",
       "2147     17947      0.617370      0.487321  0.918848          0.817050   \n",
       "2654     27421      0.025464      0.245523  0.422381          0.938011   \n",
       "\n",
       "      liveness  speechiness    tempo   valence genre_top  \n",
       "773   0.177089     0.045277  166.580  0.713586      Rock  \n",
       "2273  0.353138     0.032208  130.767  0.712374      Rock  \n",
       "2846  0.105706     0.095522  125.884  0.208728      Rock  \n",
       "2147  0.089908     0.040337  129.565  0.268893      Rock  \n",
       "2654  0.441009     0.038795  149.960  0.439876      Rock  "
      ]
     },
     "execution_count": 29,
     "metadata": {},
     "output_type": "execute_result"
    }
   ],
   "source": [
    "balanced_data.head()"
   ]
  },
  {
   "cell_type": "code",
   "execution_count": 30,
   "id": "7a591d0e",
   "metadata": {},
   "outputs": [],
   "source": [
    "#features and labels for the new balanced data\n",
    "features = balanced_data.drop(['genre_top', 'track_id'], axis=1) \n",
    "labels = balanced_data['genre_top']"
   ]
  },
  {
   "cell_type": "code",
   "execution_count": 31,
   "id": "d1618bf6",
   "metadata": {},
   "outputs": [
    {
     "data": {
      "text/plain": [
       "(1820, 6)"
      ]
     },
     "execution_count": 31,
     "metadata": {},
     "output_type": "execute_result"
    }
   ],
   "source": [
    "pca_projection = pca.fit_transform(scaler.fit_transform(features))\n",
    "pca_projection.shape"
   ]
  },
  {
   "cell_type": "code",
   "execution_count": 32,
   "id": "ac559234",
   "metadata": {},
   "outputs": [],
   "source": [
    "#split this balanced data into test and train\n",
    "X_train, X_test, y_train, y_test = train_test_split(pca_projection, labels, random_state=10)"
   ]
  },
  {
   "cell_type": "code",
   "execution_count": 33,
   "id": "b18f8dab",
   "metadata": {},
   "outputs": [],
   "source": [
    "#train decision tree on the balanced data\n",
    "model_dt = DecisionTreeClassifier(random_state=10)\n",
    "model_dt.fit(X_train,y_train)\n",
    "predictions_dt = model_dt.predict(X_test)"
   ]
  },
  {
   "cell_type": "code",
   "execution_count": 34,
   "id": "4bfc301f",
   "metadata": {},
   "outputs": [],
   "source": [
    "#train logistic regression on the balanced data\n",
    "model_lr = LogisticRegression(random_state=10)\n",
    "model_lr.fit(X_train,y_train)\n",
    "predictions_lr = model_lr.predict(X_test)"
   ]
  },
  {
   "cell_type": "code",
   "execution_count": 35,
   "id": "9d923a16",
   "metadata": {},
   "outputs": [
    {
     "name": "stdout",
     "output_type": "stream",
     "text": [
      "Decision Tree: \n",
      "               precision    recall  f1-score   support\n",
      "\n",
      "     Hip-Hop       0.74      0.73      0.74       230\n",
      "        Rock       0.73      0.74      0.73       225\n",
      "\n",
      "    accuracy                           0.74       455\n",
      "   macro avg       0.74      0.74      0.74       455\n",
      "weighted avg       0.74      0.74      0.74       455\n",
      "\n",
      "Logistic Regression: \n",
      "               precision    recall  f1-score   support\n",
      "\n",
      "     Hip-Hop       0.84      0.80      0.82       230\n",
      "        Rock       0.80      0.85      0.83       225\n",
      "\n",
      "    accuracy                           0.82       455\n",
      "   macro avg       0.82      0.82      0.82       455\n",
      "weighted avg       0.82      0.82      0.82       455\n",
      "\n"
     ]
    }
   ],
   "source": [
    "# compare the models\n",
    "print(\"Decision Tree: \\n\", classification_report(y_test, predictions_dt))\n",
    "print(\"Logistic Regression: \\n\", classification_report(y_test, predictions_lr))"
   ]
  },
  {
   "cell_type": "markdown",
   "id": "187a7780",
   "metadata": {},
   "source": [
    "#### As you can now see, the classification rates for both rock and hip-hop are now almost the same. This mean that balancing our data has removed bias towards the more prevalent class. "
   ]
  },
  {
   "cell_type": "markdown",
   "id": "e27ef90f",
   "metadata": {},
   "source": [
    "To find the final actual performance accuracy of our models, I will use the K-Fold Cross Validation procedure. This step allows us to compare models in a more rigorous fashion."
   ]
  },
  {
   "cell_type": "code",
   "execution_count": 36,
   "id": "beff8588",
   "metadata": {},
   "outputs": [],
   "source": [
    "cv = KFold(n_splits=10, random_state=1, shuffle=True)"
   ]
  },
  {
   "cell_type": "code",
   "execution_count": 37,
   "id": "58596ac8",
   "metadata": {},
   "outputs": [
    {
     "name": "stdout",
     "output_type": "stream",
     "text": [
      "Decision Tree Classifier Accuracy: 0.7979227053140097\n"
     ]
    }
   ],
   "source": [
    "scores = cross_val_score(model_dt, X_test,y_test, scoring='accuracy', cv=cv, n_jobs=-1)\n",
    "print(\"Decision Tree Classifier Accuracy:\", np.mean((scores)))"
   ]
  },
  {
   "cell_type": "code",
   "execution_count": 38,
   "id": "15002627",
   "metadata": {},
   "outputs": [
    {
     "name": "stdout",
     "output_type": "stream",
     "text": [
      "Logistic Regression Accuracy: 0.8157971014492755\n"
     ]
    }
   ],
   "source": [
    "scores = cross_val_score(model_lg, X_test,y_test, scoring='accuracy', cv=cv, n_jobs=-1)\n",
    "print(\"Logistic Regression Accuracy:\", np.mean((scores)))"
   ]
  },
  {
   "cell_type": "markdown",
   "id": "c0e0a20b",
   "metadata": {},
   "source": [
    "## Successully able to classify songs as Rock or Hip-Hop using the audio data features with an accuracy of 81.5% using Logistic Regressor."
   ]
  },
  {
   "cell_type": "code",
   "execution_count": null,
   "id": "39a307e2",
   "metadata": {},
   "outputs": [],
   "source": []
  }
 ],
 "metadata": {
  "kernelspec": {
   "display_name": "Python 3 (ipykernel)",
   "language": "python",
   "name": "python3"
  },
  "language_info": {
   "codemirror_mode": {
    "name": "ipython",
    "version": 3
   },
   "file_extension": ".py",
   "mimetype": "text/x-python",
   "name": "python",
   "nbconvert_exporter": "python",
   "pygments_lexer": "ipython3",
   "version": "3.8.12"
  }
 },
 "nbformat": 4,
 "nbformat_minor": 5
}
